{
  "nbformat": 4,
  "nbformat_minor": 0,
  "metadata": {
    "colab": {
      "name": "Big Camp 2nd week - Using Database with Python_Students.ipynb",
      "provenance": [],
      "toc_visible": true,
      "include_colab_link": true
    },
    "kernelspec": {
      "name": "python3",
      "display_name": "Python 3"
    }
  },
  "cells": [
    {
      "cell_type": "markdown",
      "metadata": {
        "id": "view-in-github",
        "colab_type": "text"
      },
      "source": [
        "<a href=\"https://colab.research.google.com/github/iljoooo/lecture-notes/blob/master/Big_Camp_2nd_week_Using_Database_with_Python_Students.ipynb\" target=\"_parent\"><img src=\"https://colab.research.google.com/assets/colab-badge.svg\" alt=\"Open In Colab\"/></a>"
      ]
    },
    {
      "cell_type": "markdown",
      "metadata": {
        "id": "kDf-kB3KhmhX",
        "colab_type": "text"
      },
      "source": [
        "# Big Camp 2주차- 데이터 사이언스를 위한 Advanced Python\n",
        "\n",
        "데이터베이스\n",
        "\n",
        "서울대학교 도시데이터 사이언스 연구소"
      ]
    },
    {
      "cell_type": "markdown",
      "metadata": {
        "id": "mHCBmr85huTN",
        "colab_type": "text"
      },
      "source": [
        "# 데이터사이언스에서 데이터베이스의 역할\n",
        "\n",
        "\n",
        "* 빅데이터의 특징\n",
        "  - Volumne(규모): PB~ZB 규모의 데이터들이 축적\n",
        "  - Variety(다양성): 다양한 종류의 데이터 활용이 필요\n",
        "  - Velocity(속도): 실시간 데이터 처리\n",
        "  - Veracity(정확성): 데이터의 품질 또는 정확도가 중요\n",
        "\n",
        "* 데이터 사이언스의 프로세스\n",
        "  1. 문제정의\n",
        "  2. __데이터 수집__\n",
        "  3. __데이터 선정 및 추출__\n",
        "  4. 데이터 전처리\n",
        "  5. 데이터 탐색 (statistics, visualization)\n",
        "  6. 데이터 분석 - 모델링 (regression, clustering, deep learning, ...)\n",
        "  7. 모델 평가\n",
        "  8. 결과물 도출\n",
        "\n",
        "* 데이터 분석의 선결 과제\n",
        "  - 대규모의 다양한 데이터셋을 효율적 관리\n",
        "  - 분석(모델링)에 적합한 데이터를 선정\n",
        "  - 선정한 데이터를 추출하여 필요한 형태로 전처리\n"
      ]
    },
    {
      "cell_type": "markdown",
      "metadata": {
        "id": "FRyuOyDNhx1M",
        "colab_type": "text"
      },
      "source": [
        "# 데이터베이스 시스템의 특징\n",
        "  \n",
        "1. 데이터 관리\n",
        "  - 데이터 중복의 최소화\n",
        "  - 데이터의 무결성(정확성, 일관성, 유효성) 유지\n",
        "  - 데이터 백업/복구\n",
        "2. 작업 관리\n",
        "  - 다수 사용자들의 데이터 공유, 보안, 접근 제어\n",
        "  - 데이터 갱신(update)작업의 Rollback 기능 지원\n",
        "3. 데이터 처리\n",
        "  - 대규모 데이터에서 필요한 데이터들만을 추출\n",
        "  - 실시간으로 변동하는 데이터 처리 및 분석"
      ]
    },
    {
      "cell_type": "markdown",
      "metadata": {
        "id": "h4OxD9Thv9uE",
        "colab_type": "text"
      },
      "source": [
        "## 데이터베이스 - 트랜잭션\n",
        "\n",
        "- 데이터베이스에서 일련의 작업을 수행하는 단위\n",
        "  * 성공(commit) 혹은 실패(Abort)로 종료\n",
        "  * ACID 특성을 가짐\n",
        "\n",
        "- 원자성(Atomicity)\n",
        "  * 하나의 트랜잭션의 작업들은 모두 실행되거나 전혀 실행되지 않아야함\n",
        "  * 중간에 취소가 된다면 이전의 작업들은 롤백\n",
        "  * 예) A계좌에서 10만원을 B계좌로 이체 (1.A계좌에서 10만원 인출, 2.B계좌로 10만원 입금)\n",
        "     => 두 작업 모두 수행되거나 둘 다 수행되거나 둘 다 수행되지 않아야 함\n",
        "- 일관성(Consistency)\n",
        "  * 트랜잭션의 실행이 완료된 후에는 데이터베이스가 모든 일관성 조건을 만족해야 함\n",
        "  * 예) 계좌이체 후 A계좌와 B계좌의 잔액의 합이 트랜잭션 수행 이전과 같아야 함\n",
        "- 고립성(Isolation)\n",
        "  * 트랜잭션들이 병행수해되는 다른 트랜잭션으로부터 영향을 받아서는 안됨\n",
        "  * 예) 트랜잭션1의 중간 결과는 트랜잭션2가 참조할 수 없음\n",
        "- 지속성(Durability)\n",
        "  * 완료(commit)된 트랜잭션의 결과는 영구적으로 반영되어야 함"
      ]
    },
    {
      "cell_type": "markdown",
      "metadata": {
        "id": "qYSautubh0qs",
        "colab_type": "text"
      },
      "source": [
        "# 관계형 데이터베이스\n",
        "* 가장 일반적으로 많이 사용되는 데이터베이스의 종류\n",
        "* 테이블의 형태로 데이터를 저장\n",
        "  - 행: 레코드(record), 튜플(tuple)\n",
        "  - 열: 필드(field), 속성(attribute)\n",
        "  - 하나의 필드에서는 동일한 타입의 데이터만 입력 가능\n",
        "* 테이블에서 저장 가능한 데이터 자료형\n",
        "  - INT, BIGINT, SMALLINT, ...\n",
        "  - DECIMAL, FLOAT, DOUBLE, ...\n",
        "  - CHAR, VARCHAR, ...\n",
        "  - DATE, TIME, TIMESTAMP, ...\n",
        "  - BLOB, ...\n",
        "  - ...\n"
      ]
    },
    {
      "cell_type": "markdown",
      "metadata": {
        "id": "vAkKN8tJ6CVR",
        "colab_type": "text"
      },
      "source": [
        "## 관계형 데이터베이스: 테이블\n",
        "\n",
        "|ID|FNAME|LNAME|DNAME|FLOOR|GENDER|SALARY|\n",
        "|-----|-----|-----|-----|:-----:|:-----:|-----|\n",
        "|1 | Brad | Nash | Research | 9F | M | 30000|\n",
        "|2 | Franklin | Smith | Sales | 9F | M | 40000|\n",
        "|3 | Nicole | Kim | Finance | 10F | F | 25000|\n",
        "|4 | Anna | Mills | Research | 9F |F | 43000 |\n",
        "|5 | Tim | Allen | Research | 9F | M | 38000 |\n",
        "|6 | Jennifer |Grey | HR | 10F | F | 35000 |\n",
        "|7 | Tony | Parker | Sales | 9F | M | 25000 |\n",
        "|8 | James | Wong | Finance | 10F | M | 45000 |"
      ]
    },
    {
      "cell_type": "markdown",
      "metadata": {
        "id": "rDjDn9I3HGMy",
        "colab_type": "text"
      },
      "source": [
        "## 데이터베이스 정규화(Normalization)\n",
        "\n",
        "- 관계형 데이터베이스의 설계에서 데이터의 중복을 최소화하기 위하여 구조화\n",
        "  * 예시 테이블에서 각 직원들의 부서 관련 데이터(DNAME, FLOOR)가 중복\n",
        "  * Research 부서가 10F으로 장소를 이동한다면?\n",
        "  * DEPARTMENT 테이블을 만들고 DID 관계 설정\n",
        "- 외래키(FOREIGN KEY) 설정을 통하여 데이터베이스 무결성 유지에 도움\n",
        "  * 예) 직원의 DID는 DEPARTMENT 테이블에 있는 값으로만 설정할 수 있다."
      ]
    },
    {
      "cell_type": "markdown",
      "metadata": {
        "id": "91YP1d8b5y9h",
        "colab_type": "text"
      },
      "source": [
        "DEPARTMENT 테이블\n",
        "\n",
        "| DID | DNAME | FLOOR |\n",
        "|-----|-----|:-----:|\n",
        "| 1 | Finance | 10F |\n",
        "| 2 | Sales | 9F |\n",
        "| 3 | Research | 9F |\n",
        "| 4 | HR | 10F |"
      ]
    },
    {
      "cell_type": "markdown",
      "metadata": {
        "id": "NNgixn6M519e",
        "colab_type": "text"
      },
      "source": [
        "EMPLOYEE 테이블\n",
        "\n",
        "|EID|FNAME|LNAME|DID|GENDER|SALARY|\n",
        "|-|-----|-----|:-----:|:-----:|-----|\n",
        "|1 | Brad | Nash | 3 | M | 30000|\n",
        "|2 | Franklin | Smith | 2 | M | 40000|\n",
        "|3 | Nicole | Kim | 1 | F | 25000|\n",
        "|4 | Anna | Mills | 3 | F | 43000 |\n",
        "|5 | Tim | Allen | 3 | M | 38000 |\n",
        "|6 | Jennifer |Grey | 4 | F | 35000 |\n",
        "|7 | Tony | Parker | 2 | M | 25000 |\n",
        "|8 | James | Wong | 1 | M | 45000 |"
      ]
    },
    {
      "cell_type": "markdown",
      "metadata": {
        "id": "EhJyayxHK_Zs",
        "colab_type": "text"
      },
      "source": [
        "## 관계형 데이터베이스 제약(CONSTRAINT)\n",
        "- 데이터베이스의 무결성(정확성, 일관성, 유효성)의 유지\n",
        "- 제약조건\n",
        "  * UNIQUE KEY: 저장된 레코드를 고유하게 식별하기 위한 키 정의(ex. 주민등록번호, 학번, 사번), NULL값은 중복입력 가능\n",
        "  * NOT NULL: 해당 칼럼에 NULL 값의 입력을 금지\n",
        "  * PRIMARY KEY: UNIQUE KEY & NOT NULL, 테이블 당 하나의 PRIMARY KEY 제약만 정의 가능\n",
        "  * CHECK: 입력할 수 있는 값의 범위 등을 제한\n",
        "  * FOREIGN KEY: 관계형 데이터베이스에서 테이블 간의 관계를 정의"
      ]
    },
    {
      "cell_type": "markdown",
      "metadata": {
        "id": "-602Bvizh3Zs",
        "colab_type": "text"
      },
      "source": [
        "# SQL (Structured Query Language)\n",
        "* 데이터베이스의 정의와 질의 및 갱신을 위하여 설계된 프로그래밍 언어\n",
        "* 표준화되어 모든 데이터베이스 시스템이 동일한 문법의 SQL 사용\n",
        "* 주요 구문\n",
        "  - 테이블 생성, 삭제, 변경 (CREATE, DROP, ALTER)\n",
        "  - 데이터 갱신 (INSERT, UPDATE, DELETE)\n",
        "  - 질의 (SELECT)\n",
        "* SQL 명령문들은 마지막에 ';' 부호를 사용하여 구분\n",
        "* SQL 실습도구\n",
        "  - https://sqliteonline.com/"
      ]
    },
    {
      "cell_type": "markdown",
      "metadata": {
        "id": "iczs-1AMh6C0",
        "colab_type": "text"
      },
      "source": [
        "## CREATE TABLE\n",
        "- 새로운 테이블 생성\n",
        "\n",
        "- CREATE TABLE [테이블이름] ([필드이름1] [필드타입1], [필드이름2] [필드타입2], ... );\n",
        "  * 같은 이름의 테이블이 있을 시 에러 발생\n",
        "- CREATE TABLE IF NOT EXISTS [테이블 이름] ([필드이름1] [필드타입1], [필드이름2] [필드타입2], ... );\n",
        "\n",
        "\n",
        "- ex) CREATE TABLE DEPARTMENT (DID INT, DNAME VARCHAR(32), FLOOR VARCHAR(32));\n",
        "- ex) CREATE TABLE IF NOT EXISTS DEPARTMENT (DID INT, DNAME VARCHAR(32), FLOOR VARCHAR(32));\n",
        "- ex) CREATE TABLE DEPARTMENT (DID INT PRIMARY KEY, DNAME VARCHAR(32), FLOOR VARCHAR(32));\n",
        "\n",
        "| DID | DNAME | FLOOR |\n",
        "|-----|-----|-----|"
      ]
    },
    {
      "cell_type": "markdown",
      "metadata": {
        "id": "atPjeT3vh7g8",
        "colab_type": "text"
      },
      "source": [
        "## DROP TABLE\n",
        "- 기존 테이블 제거\n",
        "\n",
        "- DROP TABLE [테이블이름]\n",
        "  * 해당 테이블이 없으면 에러 발생\n",
        "- DROP TABLE IF EXISTS [테이블이름];\n",
        "\n",
        "\n",
        "- ex) DROP TABLE DEPARTMENT;\n",
        "- ex) DROP TABLE IF EXSITS DEPARTMENT;"
      ]
    },
    {
      "cell_type": "markdown",
      "metadata": {
        "id": "ETCyL9jVh-M8",
        "colab_type": "text"
      },
      "source": [
        "## INSERT\n",
        "- 새로운 레코드 입력\n",
        "- INSERT INTO [테이블이름] VALUES ([필드값1], [필드값2], ...)\n",
        "  * 문자열 값은 ''나 \"\"로 묶어줘야 함\n",
        "\n",
        "\n",
        "\n",
        "- ex) INSERT INTO DEPARTMENT VALUES(1, 'Finance', '10F');\n",
        "- ex) INSERT INTO DEPARTMENT VALUES(2, 'Sales', '9F');\n",
        "- ex) INSERT INTO DEPARTMENT VALUES(3, 'Research', '9F');\n",
        "- ex) INSERT INTO DEPARTMENT VALUES(4, 'HR', '9F');\n",
        "- ex) INSERT INTO DEPARTMENT VALUES(5, 'Marketing', '10F');\n",
        "\n",
        "| DID | DNAME | FLOOR |\n",
        "|-----|-----|-----|\n",
        "| 1 | Finance | 10F |\n",
        "| 2 | Sales | 9F |\n",
        "| 3 | Research | 9F |\n",
        "| 4 | HR | 9F |\n",
        "| 5 | Marketing | 10F |"
      ]
    },
    {
      "cell_type": "markdown",
      "metadata": {
        "id": "uuc8wSYaiBhj",
        "colab_type": "text"
      },
      "source": [
        "## UPDATE\n",
        "- 기존 레코드의 값 변경\n",
        "- UPDATE [테이블이름] SET [필드이름] = [필드값] WHERE [조건]\n",
        "\n",
        "\n",
        "- ex) DNAME이 'HR'인 레코드의 FLOOR 값을 '10F'로 변경\n",
        "  * UPDATE DEPARTMENT SET FLOOR = '10F' WHERE DNAME = 'HR';\n",
        "\n",
        "| DID | DNAME | FLOOR |\n",
        "|-----|-----|-----|\n",
        "| 1 | Finance | 10F |\n",
        "| 2 | Sales | 9F |\n",
        "| 3 | Research | 9F |\n",
        "| 4 | HR | 10F |\n",
        "| 5 | Marketing | 10F |"
      ]
    },
    {
      "cell_type": "markdown",
      "metadata": {
        "id": "-gysOShEiDa4",
        "colab_type": "text"
      },
      "source": [
        "## DELETE\n",
        "- 레코드 삭제\n",
        "- DELETE FROM [테이블이름] WHERE [조건]\n",
        "\n",
        "\n",
        "- ex) DNAME이 'Marketing'인 레코드를 삭제\n",
        "  * DELETE FROM DEPARTMENT WHERE DNAME = 'Marketing';\n",
        "\n",
        "| DID | DNAME | FLOOR |\n",
        "|-----|-----|-----|\n",
        "| 1 | Finance | 10F |\n",
        "| 2 | Sales | 9F |\n",
        "| 3 | Research | 9F |\n",
        "| 4 | HR | 10F |"
      ]
    },
    {
      "cell_type": "markdown",
      "metadata": {
        "id": "Qfw5xRx9iGNF",
        "colab_type": "text"
      },
      "source": [
        "## SELECT\n",
        "- 데이터베이스 질의\n",
        "- SELECT-FROM-WHERE 구조\n",
        "- SELECT [필드이름1], [필드이름2], ... FROM [테이블이름1], [테이블이름2], ... WHERE [조건];\n",
        "  + [필드이름]에 * 를 넣으면 전체 칼럼\n",
        "  + [필드이름] AS [지정] 의 형식으로 결과 테이블의 필드 이름을 지정할 수 있음\n",
        "\n",
        "\n",
        "- ex) DEPARTMENT 테이블의 모든 레코드\n",
        "  * SELECT * FROM DEPARTMENT;\n",
        "- ex) DEPARTMENT 테이블의 레코드 개수\n",
        "  * SELECT COUNT(\\*) FROM DEPARTMENT\n",
        "- ex) DEPARTMENT 테이블에서 FLOOR가 '9F'인 레코드들의 DID와 DNAME(DID는 ID로 명칭, DNAME은 NAME으로 명칭)\n",
        "  * SELECT DID as ID , DNAME as NAME FROM DEPARTMENT WHERE FLOOR = '9F';\n",
        "\n",
        "| ID | NAME |\n",
        "|-----|-----|\n",
        "| 2 | Sales |\n",
        "| 3 | Research |"
      ]
    },
    {
      "cell_type": "markdown",
      "metadata": {
        "id": "t0ayBFB4iHtb",
        "colab_type": "text"
      },
      "source": [
        "## WHERE절 조건\n",
        "|술어|연산자|예|\n",
        "|:------|:----------|:---------------|\n",
        "|비교   | =, <>, <, <=, >, >=     | VALUE < 20000|\n",
        "|범위   | BETWEEN                 | VALUE BETWEEN 10000 AND 20000|\n",
        "|집합   | IN, NOT IN              | VALUE IN (10000, 20000, 30000)|\n",
        "|패턴   | LIKE                    | NAME LIKE 'New%'|\n",
        "|NULL  | IS NULL, IS NOT NULL     | NAME is NULL|\n",
        "|복합   | AND, OR, NOT            | (VALUE < 20000) AND (NAME LIKE 'New%')|"
      ]
    },
    {
      "cell_type": "markdown",
      "metadata": {
        "id": "qTk8XWuNiJdF",
        "colab_type": "text"
      },
      "source": [
        "## 연습문제 1\n",
        "1. CREATE 문을 사용하여 아래 테이블 EMPLOYEE 생성\n",
        "  - EID: INT\n",
        "  - FNAME: VARCHAR(32)\n",
        "  - LNAME: VARCHAR(32)\n",
        "  - DID: INT\n",
        "  - GENDER: CHAR\n",
        "  - SALARY: INT\n",
        "\n",
        "|EID|FNAME|LNAME|DID|GENDER|SALARY|\n",
        "|-|-----|-----|-----|-----|-----|\n",
        "|1 | Brad | Nash | 3 | M | 30000|\n",
        "|2 | Franklin | Smith | 2 | M | 40000|\n",
        "|3 | Nicole | Kim | 1 | F | 25000|\n",
        "|4 | Anna | Mills | 3 | F | 43000 |\n",
        "|5 | Tim | Allen | 3 | M | 38000 |\n",
        "|6 | Jennifer |Grey | 4 | F | 35000 |\n",
        "|7 | Tony | Parker | 2 | M | 25000 |\n",
        "|8 | James | Wong | 1 | M | 45000 |\n",
        "\n",
        "2. INSERT 문을 사용하여 아래 그림에 나타난 8개 레코드 입력\n",
        "3. 다음을 질의하는 SQL 작성 후 실행\n",
        "  - 연봉이 30000불 이상인 직원들의 FNAME, LNAME, SALARY\n",
        "\n",
        "| FNAME | LNAME | SALARY |\n",
        "|-----|-----|-----|\n",
        "| Brad | Nash | 30000 |\n",
        "| Franklin | Smith | 40000 |\n",
        "| Anna | Mills |43000 |\n",
        "| Tim | Allen | 38000 |\n",
        "| Jennifer | Grey | 35000 |\n",
        "| James | Wong | 45000 |"
      ]
    },
    {
      "cell_type": "markdown",
      "metadata": {
        "id": "ZZPZ080xiLEl",
        "colab_type": "text"
      },
      "source": [
        "## GROUP BY\n",
        "- 여러 레코드에 대한 집단값 연산\n",
        "- 집계값(AGGREGATION): COUNT, SUM, AVG, MIN, MAX\n",
        "  * 집계값은 SUM(필드이름), COUNT(\\*)와 같은 방식으로 선언\n",
        "- SELECT [그룹필드1], [집계값1], ... FROM [테이블이름] GROUP BY [그룹필드1];\n",
        "\n",
        "\n",
        "- ex) EMPLOYEE 테이블에서 성별 그룹들의 평균 SALARY는?\n",
        "  * SELECT GENDER, AVG(SALARY) AS AVG_SAL FROM EMPLOYEE GROUP BY GENDER;\n",
        "\n",
        "| GENDER | AVG_SAL |\n",
        "|-----|-----|\n",
        "| F | 34333.33 |\n",
        "| M | 35600 |\n",
        "\n",
        "- 문제) EMPLOYEE 테이블에서 각 DID 그룹의 최고 SALARY는?\n",
        "\n",
        "|DID|MAX(SALARY)|\n",
        "|-----|-----|\n",
        "| 1 | 45000 |\n",
        "| 2 | 40000 |\n",
        "| 3 | 43000 |\n",
        "| 4 | 35000 |"
      ]
    },
    {
      "cell_type": "markdown",
      "metadata": {
        "id": "oS38GI2eiOBg",
        "colab_type": "text"
      },
      "source": [
        "## ORDER BY\n",
        "- 질의의 결과를 특정 칼럼을 기준으로 정렬\n",
        "- 오름차순(ASC), 내림차순(DESC)\n",
        "- SELECT [필드이름1], [필드이름2] FROM [테이블이름] ORDER BY [필드이름] ASC/DESC;\n",
        "\n",
        "\n",
        "- ex) EMPLOYEE 테이블의 FNAME, LNAME, SALARY를 SALARY 기준 내림차순 정렬\n",
        "  * SELECT FNAME, LNAME, SALARY FROM EMPLOYEE ORDER BY SALARY DESC;\n",
        "\n",
        "|FNAME|LNAME|SALARY|\n",
        "|-----|-----|-----|\n",
        "| James | Wong | 45000 |\n",
        "| Anna | Mills | 43000 |\n",
        "| Franklin | Smith | 40000 |\n",
        "| Tim | Allen | 38000 |\n",
        "| Jennifer | Grey | 35000 |\n",
        "| Brad | Nash | 30000 |\n",
        "| Nicole | Kim | 25000 |\n",
        "| Tony | Parker | 25000 |\n",
        "\n",
        "- 문제) EMPLOYEE 테이블에서 GENDER가 'M'인 레코드들의 FNAME, LNAME, SALARY를 FNAME 기준 오름차순 정렬\n",
        "\n",
        "|FNAME|LNAME|SALARY|\n",
        "|-----|-----|-----|\n",
        "| Brad | Nash | 30000 |\n",
        "| Franklin | Smith | 40000 |\n",
        "| James | Wong | 45000 |\n",
        "| Tim | Allen | 38000 |\n",
        "| Tony | Parker | 25000 |"
      ]
    },
    {
      "cell_type": "markdown",
      "metadata": {
        "id": "jc5guuzeiPvI",
        "colab_type": "text"
      },
      "source": [
        "## JOIN\n",
        "- 두 개 이상의 테이블을 결합하여 질의\n",
        "  * 주로 정규화된 테이블들을 대상으로 함께 질의하는데 사용\n",
        "  \n",
        "  \n",
        "- SELECT [필드이름1], [필드이름2], ... FROM [테이블이름1], [테이블이름2], WHERE [조인조건];\n",
        "- SELECT [필드이름1], [필드이름2], ... FROM [테이블이름1] JOIN [테이블이름2] ON [조인조건];\n",
        "\n",
        "\n",
        "- ex) SELECT FNAME, LNAME, DNAME, GENDER FROM DEPARTMENT, EMPLOYEE WHERE DEPARTMENT.DID = EMPLOYEE.DID;\n",
        "- ex) SELECT FNAME, LNAME, DNAME, GENDER FROM DEPARTMENT JOIN EMPLOYEE ON DEPARTMENT.DID = EMPLOYEE.DID;\n",
        "\n",
        "|FNAME|LNAME|DNAME|GENDER|\n",
        "|-----|-----|-----|-----|\n",
        "| Brad | Nash | Research | M |\n",
        "| Franklin | Smith | Sales | M |\n",
        "| Nicole | Kim | Finace | F |\n",
        "| Anna | Mills | Research | F |\n",
        "| Tim | Allen | Research | M |\n",
        "| Jennifer |Grey | HR | F |\n",
        "| Tony | Parker | Sales | M |\n",
        "| James | Wong | Finance | M |\n",
        "\n",
        "\n",
        "\n",
        "- 문제) 9층에서 근무하는 남자 직원들의 이름(FNAME, LNAME)\n",
        "\n",
        "|FNAME|LNAME|\n",
        "|-----|-----|\n",
        "|Brad|Nash|\n",
        "|Franklin|Smith|\n",
        "|Tim|Allen|\n",
        "|Tony|Parker|"
      ]
    },
    {
      "cell_type": "markdown",
      "metadata": {
        "id": "eFUe3wV0Tkud",
        "colab_type": "text"
      },
      "source": [
        "## 연습문제 2\n",
        "\n",
        "### 2-1\n",
        "  - 각 부서별  평균연봉을 계산\n",
        "  - 결과 테이블의 필드는 (부서이름 DNAME, 평균연봉 AVG_SAL)\n",
        "  - 평균연봉을 기준으로 내림차순 정렬\n",
        "\n",
        "|DNAME|AVG_SAL|\n",
        "|-----|-----|\n",
        "| Research | 37000 |\n",
        "| Finance | 35000 |\n",
        "| HR | 35000 |\n",
        "| Sales | 32500 |\n",
        "\n",
        "### 2-2\n",
        "  - 각 층의 직원들 중 가장 높은 연봉을 받는 사람\n",
        "  - 결과 테이블의 필드는 (층 FLOOR, 이름 FNAME, 성 LNAME, 최고연봉 MAX_SAL)\n",
        "\n",
        "|FLOOR|FNAME|LNAME|MAX_SAL|\n",
        "|-----|-----|-----|-----|\n",
        "|10F|James|Wong|45000|\n",
        "|9F|Anna|Mills|43000|\n",
        "\n",
        "\n",
        "### 2-3\n",
        "  - 부서별 연봉이 30000불 이상인 직원의 수\n",
        "  - 결과 테이블의 필드는 (부서이름 DNAME, 직원 수 COUNT)\n",
        "  \n",
        "|DNAME|COUNT(\\*)|\n",
        "|-----|:-----:|\n",
        "|Finance|1|\n",
        "|HR|1|\n",
        "|Research|3|\n",
        "|Sales|1|"
      ]
    },
    {
      "cell_type": "markdown",
      "metadata": {
        "id": "mzSGvZO3iRwV",
        "colab_type": "text"
      },
      "source": [
        "# 파이썬에서의 데이터베이스 활용\n",
        "## Python DB-API 2.0\n",
        "- 여러 종류 데이터베이스의 파이썬 인터페이스 표준 (PEP 249, https://www.python.org/dev/peps/pep-0249/)\n",
        "- 데이터베이스 연결, SQL 실행, 파라미터, 에러코드 등과 같이 데이터베이스 사용에 관련된 API\n",
        "\n",
        "### Module Interfce\n",
        "- connect(*parameters...*): 데이터베이스에 연결하여 Connection 개체 반환\n",
        "- Exceptions: Warning, Error 정의\n",
        "\n",
        "### Connection Objects\n",
        "- close(): 데이터베이스와의 연결 해제\n",
        "- commit(): 트랜잭션 커밋\n",
        "- rollback(): 트랜잭션을 취소하고 롤백\n",
        "- cursor(): 커서를 생성하여 반환\n",
        "\n",
        "### Cursor Objects\n",
        "- execute(*sql,[,parameters]*): 쿼리 수행\n",
        "- executemany(*sql, seq_of_param*): 쿼리 수행\n",
        "- fetchone(): 결과 탐색\n",
        "- fetchmany(*size = cursor.arraysize*): 결과 탐색\n",
        "- fetchall(): 결과 탐색\n"
      ]
    },
    {
      "cell_type": "markdown",
      "metadata": {
        "id": "Dc1B_a9vcMwh",
        "colab_type": "text"
      },
      "source": [
        "## 실습 데이터베이스\n",
        "### sqlite3\n",
        "- 오픈소스 데이터베이스 SQLite의 파이썬 모듈\n",
        "- lightweight disk-based database\n",
        "- 독립적인 서버 프로세스를 가지고 있지 않다(서버-클라이언트 모델X)\n",
        "- 로컬에서만 사용"
      ]
    },
    {
      "cell_type": "code",
      "metadata": {
        "id": "wT74T6--cba4",
        "colab_type": "code",
        "colab": {}
      },
      "source": [
        "import sqlite3\n",
        "\n",
        "# 데이터베이스 생성(연결)\n",
        "conn = sqlite3.connect('company.db')\n",
        "\n",
        "try:\n",
        "  # 커서(Cursor) 생성\n",
        "  # 커서: 명령문(SQL) 실행, 결과의 현재 위치 표시\n",
        "  cursor = conn.cursor()\n",
        "    \n",
        "  # 테이블 생성(CREATE), 같은 이름의 테이블이 이미 있는 경우 제거(DROP)\n",
        "  cursor.execute(\"DROP TABLE IF EXISTS DEPARTMENT;\")\n",
        "  cursor.execute(\"CREATE TABLE DEPARTMENT(DID INT PRIMARY KEY, DNAME VARCHAR(32), FLOOR VARCHAR(32));\")\n",
        "    \n",
        "  # 데이터 입력(INSERT)\n",
        "  # sql 직접 입력\n",
        "  cursor.execute(\"INSERT INTO DEPARTMENT VALUES(1, 'Finance', '10F');\")\n",
        "  cursor.execute(\"INSERT INTO DEPARTMENT VALUES(2, 'Sales', '9F');\")\n",
        "  \n",
        "  # ? placeholder 사용\n",
        "  cursor.execute(\"INSERT INTO DEPARTMENT VALUES(?, ?, ?);\", (3, 'Research', '9F'))\n",
        "  \n",
        "  # name placeholder 사용\n",
        "  cursor.execute(\"INSERT INTO DEPARTMENT VALUES(:f1, :f2, :f3)\", {'f1':4, 'f2':'HR', 'f3':'10F'})\n",
        "\n",
        "  # 트랜잭션 커밋 - 데이터베이스에 업데이트를 반영\n",
        "  conn.commit()\n",
        "  \n",
        "  # 추가 데이터 입력\n",
        "  cursor.execute(\"INSERT INTO DEPARTMENT VALUES(5, 'Marketing', '10F');\")\n",
        "  \n",
        "  # 롤백- 최그 커밋 이후의 작업들을 취소\n",
        "  conn.rollback()\n",
        "  \n",
        "  # 결과 확인\n",
        "  # fetchall(): 쿼리의 결과를 모두 가져오기\n",
        "  result = cursor.execute(\"SELECT * FROM DEPARTMENT;\").fetchall()\n",
        "  for r in result:\n",
        "    print(r)\n",
        "  \n",
        "except sqlite3.Error as e:\n",
        "  # 데이터베이스 에러 처리\n",
        "  print(\"sqlite error: \", e)\n",
        "\n",
        "finally:\n",
        "  # 데이터베이스 연결 해제\n",
        "  conn.close()"
      ],
      "execution_count": 0,
      "outputs": []
    },
    {
      "cell_type": "code",
      "metadata": {
        "id": "01FOdB6hZmvp",
        "colab_type": "code",
        "colab": {}
      },
      "source": [
        "import sqlite3\n",
        "\n",
        "# 데이터베이스 생성(연결)\n",
        "conn = sqlite3.connect('company.db')\n",
        "\n",
        "try:\n",
        "  # 커서(Cursor) 생성\n",
        "  cursor = conn.cursor()\n",
        "  \n",
        "  # 기존에 있는 테이블과 동일한 이름의 테이블 생성\n",
        "  cursor.execute(\"CREATE TABLE DEPARTMENT(DID INT, DNAME VARCHAR(32), FLOOR VARCHAR(32));\")\n",
        "  \n",
        "except sqlite3.Error as e:\n",
        "  # 데이터베이스 에러 처리\n",
        "  print(\"sqlite error: \", e)\n",
        "\n",
        "finally:\n",
        "  # 데이터베이스 연결 해제\n",
        "  conn.close()"
      ],
      "execution_count": 0,
      "outputs": []
    },
    {
      "cell_type": "code",
      "metadata": {
        "id": "RyGwEd81Z69j",
        "colab_type": "code",
        "colab": {}
      },
      "source": [
        "import sqlite3\n",
        "\n",
        "# 데이터베이스 생성(연결)\n",
        "conn = sqlite3.connect('company.db')\n",
        "\n",
        "try:\n",
        "  # 커서(Cursor) 생성\n",
        "  cursor = conn.cursor()\n",
        "  \n",
        "  # 동일한 Primary Key를 가진 레코드 입력\n",
        "  cursor.execute(\"INSERT INTO DEPARTMENT VALUES(1, 'Marketing', '10F')\")\n",
        "  \n",
        "except sqlite3.Error as e:\n",
        "  # 데이터베이스 에러 처리\n",
        "  print(\"sqlite error: \", e)\n",
        "\n",
        "finally:\n",
        "  # 데이터베이스 연결 해제\n",
        "  conn.close()"
      ],
      "execution_count": 0,
      "outputs": []
    },
    {
      "cell_type": "markdown",
      "metadata": {
        "id": "36gN1j4ucdVf",
        "colab_type": "text"
      },
      "source": [
        "## 쿼리 수행 메소드\n",
        "- execute(*sql,[,parameters]*) : 하나의 sql문 실행\n",
        "- executemany(*sql, seq_of_param*) : 시퀀스 seq_of_param에 있는 모든 매개변수 시퀀스나 매핑에 대하여 sql 실행\n",
        "- executescript(*sql_script*) : 한번에 여러 SQL 문을 실행"
      ]
    },
    {
      "cell_type": "code",
      "metadata": {
        "id": "RhyFTGpwciLn",
        "colab_type": "code",
        "colab": {}
      },
      "source": [
        "import sqlite3\n",
        "\n",
        "# 데이터베이스 생성(연결)\n",
        "conn = sqlite3.connect('company.db')\n",
        "\n",
        "try:\n",
        "  # 커서(Cursor) 생성\n",
        "  cursor = conn.cursor()\n",
        "\n",
        "  # 테이블 생성(CREATE), 같은 이름의 테이블이 이미 있는 경우 제거(DROP)\n",
        "  cursor.execute(\"DROP TABLE IF EXISTS DEPARTMENT\")\n",
        "  cursor.execute(\"CREATE TABLE DEPARTMENT(DID INT, DNAME VARCHAR(32), FLOOR VARCHAR(32))\")\n",
        "    \n",
        "  # 데이터 입력(INSERT)\n",
        "  seq_of_param = [\n",
        "      (1, 'Finance', '10F'),\n",
        "      (2, 'Sales', '9F'),\n",
        "      (3, 'Research', '9F'),\n",
        "      (4, 'HR', '10F')\n",
        "  ]\n",
        "  sql = \"INSERT INTO DEPARTMENT VALUES(?, ?, ?)\"\n",
        "  cursor.executemany(sql, seq_of_param)\n",
        "\n",
        "  # 트랜잭션 커밋\n",
        "  conn.commit()\n",
        "  \n",
        "  # 결과 확인\n",
        "  result = cursor.execute(\"SELECT * FROM DEPARTMENT\").fetchall()\n",
        "  for r in result:\n",
        "    print(r)\n",
        "  \n",
        "except sqlite3.Error as e:\n",
        "  # 데이터베이스 에러 처리\n",
        "  print(\"sqlite error: \", e)\n",
        "\n",
        "finally:\n",
        "  # 데이터베이스 연결 해제\n",
        "  conn.close()"
      ],
      "execution_count": 0,
      "outputs": []
    },
    {
      "cell_type": "code",
      "metadata": {
        "id": "I1ozn_92ckew",
        "colab_type": "code",
        "colab": {}
      },
      "source": [
        "import sqlite3\n",
        "\n",
        "# 데이터베이스 생성(연결)\n",
        "conn = sqlite3.connect('company.db')\n",
        "\n",
        "try:\n",
        "  # 커서(Cursor) 생성\n",
        "  cursor = conn.cursor()\n",
        "    \n",
        "  # sql script 실행\n",
        "  # 각 sql문은 ; 문자로 구분\n",
        "  cursor.executescript(\"\"\"\n",
        "            DROP TABLE IF EXISTS DEPARTMENT;\n",
        "            CREATE TABLE DEPARTMENT(DID INT, DNAME VARCHAR(32), FLOOR VARCHAR(32));\n",
        "            \n",
        "            INSERT INTO DEPARTMENT VALUES(1, 'Finance', '10F');\n",
        "            INSERT INTO DEPARTMENT VALUES(2, 'Sales', '9F');\n",
        "            INSERT INTO DEPARTMENT VALUES(3, 'Research', '9F');\n",
        "            INSERT INTO DEPARTMENT VALUES(4, 'HR', '10F');\n",
        "            \"\"\")\n",
        "\n",
        "  # 트랜잭션 커밋\n",
        "  conn.commit()\n",
        "  \n",
        "  # 결과 확인\n",
        "  result = cursor.execute(\"SELECT * FROM DEPARTMENT\").fetchall()\n",
        "  for r in result:\n",
        "    print(r)\n",
        "    \n",
        "except sqlite3.Error as e:\n",
        "  # 데이터베이스 에러 처리\n",
        "  print(\"sqlite error: \", e)\n",
        "\n",
        "finally:\n",
        "  # 데이터베이스 연결 해제\n",
        "  conn.close()"
      ],
      "execution_count": 0,
      "outputs": []
    },
    {
      "cell_type": "markdown",
      "metadata": {
        "id": "PwHycR8ycmzA",
        "colab_type": "text"
      },
      "source": [
        "## 결과 탐색 메소드\n",
        "- fetchone() : 질의 결과 집합의 다음 행(row)을 하나씩 반환, 데이터가 더 없을 때 None을 반환\n",
        "- fetchmany(*size = cursor.arraysize*) : *size* 개수 만큼의 결과 행(row)을 리스트로 반환, 종료시 None 반환\n",
        "- fetchall() : 질의 결과에서 (남은) 모든 행(row)를 반환"
      ]
    },
    {
      "cell_type": "code",
      "metadata": {
        "id": "LXCwGFFEcpRn",
        "colab_type": "code",
        "colab": {}
      },
      "source": [
        "import sqlite3\n",
        "\n",
        "conn = sqlite3.connect('company.db')\n",
        "\n",
        "try: \n",
        "  cursor = conn.cursor() \n",
        "  cursor.execute(\"SELECT * FROM DEPARTMENT WHERE FLOOR = '9F'\")\n",
        "\n",
        "  r = cursor.fetchone()\n",
        "  while r != None:\n",
        "    print(r)\n",
        "    r = cursor.fetchone()\n",
        "\n",
        "except sqlite3.Error as e:\n",
        "  print(\"sqlite error: \", e)"
      ],
      "execution_count": 0,
      "outputs": []
    },
    {
      "cell_type": "markdown",
      "metadata": {
        "id": "cjjnAR16cuAv",
        "colab_type": "text"
      },
      "source": [
        "## 연습문제 3\n",
        "\n",
        "* 연습 문제 1과 같은 내용을 파이썬을 사용하여 수행\n",
        "  - INSERT문은 executemany() 함수 사용\n",
        "  - SELECT문 결과의 출력은 fetchone() 함수 사용\n",
        "\n",
        "1. CREATE 문을 사용하여 아래 테이블 EMPLOYEE 생성\n",
        "  - EID: INT\n",
        "  - FNAME: VARCHAR(32)\n",
        "  - LNAME: VARCHAR(32)\n",
        "  - DID: INT\n",
        "  - GENDER: CHAR\n",
        "  - SALARY: INT\n",
        "\n",
        "|EID|FNAME|LNAME|DID|GENDER|SALARY|\n",
        "|-|-----|-----|-----|-----|-----|\n",
        "|1 | Brad | Nash | 3 | M | 30000|\n",
        "|2 | Franklin | Smith | 2 | M | 40000|\n",
        "|3 | Nicole | Kim | 1 | F | 25000|\n",
        "|4 | Anna | Mills | 3 | F | 43000 |\n",
        "|5 | Tim | Allen | 3 | M | 38000 |\n",
        "|6 | Jennifer |Grey | 4 | F | 35000 |\n",
        "|7 | Tony | Parker | 2 | M | 25000 |\n",
        "|8 | James | Wong | 1 | M | 45000 |\n",
        "\n",
        "2. INSERT 문을 사용하여 아래 그림에 나타난 8개 레코드 입력\n",
        "3. 다음을 질의하는 SQL 작성 후 실행\n",
        "  - 연봉이 30000불 이상인 직원들의 FNAME, LNAME, SALARY\n",
        "\n",
        "| FNAME | LNAME | SALARY |\n",
        "|-----|-----|-----|\n",
        "| Brad | Nash | 30000 |\n",
        "| Franklin | Smith | 40000 |\n",
        "| Anna | Mills |43000 |\n",
        "| Tim | Allen | 38000 |\n",
        "| Jennifer | Grey | 35000 |\n",
        "| James | Wong | 45000 |"
      ]
    },
    {
      "cell_type": "code",
      "metadata": {
        "id": "AETr4OobbdMV",
        "colab_type": "code",
        "colab": {}
      },
      "source": [
        "import sqlite3\n",
        "\n",
        "# 데이터베이스 연결\n",
        "conn = sqlite3.connect('company.db')\n",
        "\n",
        "try: \n",
        "  cursor = conn.cursor()\n",
        "\n",
        "  # 테이블 생성(Create)\n",
        "    \n",
        "  # 데이터 입력(Insert)\n",
        "    \n",
        "  # 트랜잭션 커밋 - 데이터베이스에 업데이트를 반영\n",
        "  conn.commit()\n",
        "\n",
        "  # 결과 확인\n",
        "\n",
        "except sqlite3.Error as e:\n",
        "  print(\"sqlite error: \", e)\n",
        "    \n",
        "finally:\n",
        "  conn.close()"
      ],
      "execution_count": 0,
      "outputs": []
    },
    {
      "cell_type": "markdown",
      "metadata": {
        "id": "tM28LilOjku9",
        "colab_type": "text"
      },
      "source": [
        "# Pandas 활용\n",
        "* Pandas\n",
        "  + 데이터분석에 유용한 기능들을 제공하는 파이썬 라이브러리\n",
        "  + Series, DataFrame 등 행과 열로 이루어진 객체 사용\n",
        "\n",
        "* DataFrame\n",
        "  + 테이블 형식의 자료구조\n",
        "  + https://pandas.pydata.org/pandas-docs/stable/reference/frame.html\n",
        "  + DataFrame의 데이터를 데이터베이스에 입력할 수 있으며,\n",
        "  + 데이터베이스에서 분석에 필요한 데이터를 선별하여 Dataframe을 만들 수 있음"
      ]
    },
    {
      "cell_type": "markdown",
      "metadata": {
        "id": "vH8oGNG3ujKJ",
        "colab_type": "text"
      },
      "source": [
        "## 실습 데이터셋\n",
        "- 실외 온도(OAT, Outdoor Air Temperature, F)에 따른 건물의 전력 사용량(Power, kW)\n",
        "\n",
        "\n",
        "|Timestamp|OAT|POWER|\n",
        "|-----|:-----:|:-----:|\n",
        "| 1/1/2010 1:15 | 51 | 165.1 |\n",
        "| 1/1/2010 1:30 | 51 | 151.6 |\n",
        "| 1/1/2010 1:45 | 51 | 146.9 |\n",
        "| ... | ... | ... |\n",
        "| 12/31/2010 0:00 | 44 | 177.9 |\n",
        "\n",
        "- https://becominghuman.ai/linear-regression-in-python-with-pandas-scikit-learn-72574a2ec1a5\n"
      ]
    },
    {
      "cell_type": "code",
      "metadata": {
        "id": "YcP96_gwwN4S",
        "colab_type": "code",
        "colab": {}
      },
      "source": [
        "!wget https://raw.githubusercontent.com/iljoooo/lecture-notes/master/regression.db\n",
        "  \n",
        "import sqlite3\n",
        "\n",
        "# 데이터베이스 연결\n",
        "conn = sqlite3.connect('regression.db')\n",
        "\n",
        "try:\n",
        "  # 확인, 레코드 개수 34940\n",
        "  result = conn.cursor().execute(\"SELECT COUNT(*) FROM OAT_POWER;\").fetchall()\n",
        "  print(result)\n",
        "except sqlite3.Error as e:\n",
        "  print(\"sqlite error: \", e)\n",
        "\n",
        "finally:\n",
        "  conn.close()"
      ],
      "execution_count": 0,
      "outputs": []
    },
    {
      "cell_type": "markdown",
      "metadata": {
        "id": "dRdoEIZ6wQB6",
        "colab_type": "text"
      },
      "source": [
        "## 데이터베이스의 데이터 추출 to Pandas.DataFrame\n",
        "\n",
        "- read_sql(*sql, con, index_col=None, coerce_float=True, params=None, parse_dates=None, columns=None, chunksize=None*)\n",
        "  * sql: SQL 쿼리 혹은 테이블 이름\n",
        "  * con: DBAPI2 Connection\n",
        "  * index_col: Dataframe에서 index로 사용할 column 이름\n",
        "  * coerce_float: non-string, non-numeric object(Decimal)를 floating point로 변환\n",
        "  * params: SQL parameter\n",
        "  * parse_dates: dates 타입으로 인식해야하는 column 리스트\n",
        "  * columns: 테이블을 직접 로드할 때 선택할 column 리스트\n",
        "  * chunksize: 이터레이터의 chunk size 지정\n",
        "- read_sql_table(*table_name, con, schema=None, index_col=None, coerce_float=True, parse_dates=None, columns=None, chunksize=None*)\n",
        "- read_sql_query(*sql, con, index_col=None, coerce_float=True, params=None, parse_dates=None, chunksize=None*)\n",
        "- https://pandas.pydata.org/pandas-docs/version/0.15.0/generated/pandas.read_sql.html"
      ]
    },
    {
      "cell_type": "code",
      "metadata": {
        "id": "YOFJigxvt0OW",
        "colab_type": "code",
        "colab": {}
      },
      "source": [
        "import sqlite3\n",
        "import pandas as pd\n",
        "from pandas import DataFrame\n",
        "\n",
        "# 데이터베이스 연결\n",
        "conn = sqlite3.connect('regression.db')\n",
        "\n",
        "try:\n",
        "  # 테이블을 Pandas.Dataframe으로 추출\n",
        "  # %m/%d/%Y %H:%M 형식으로 저장되어있는 Timestamp columnd을 python datetime 자료형으로 변환\n",
        "  df = pd.read_sql('SELECT * FROM OAT_POWER',conn, parse_dates = {'Timestamp':'%m/%d/%Y %H:%M'})\n",
        "  print(df.head())\n",
        "\n",
        "except sqlite3.Error as e:\n",
        "  print(\"sqlite error: \", e)\n",
        "\n",
        "finally:\n",
        "  conn.close()"
      ],
      "execution_count": 0,
      "outputs": []
    },
    {
      "cell_type": "code",
      "metadata": {
        "id": "gQ55VjUH0Vui",
        "colab_type": "code",
        "colab": {}
      },
      "source": [
        "df.hist()"
      ],
      "execution_count": 0,
      "outputs": []
    },
    {
      "cell_type": "code",
      "metadata": {
        "id": "XIb7bU9p0kf3",
        "colab_type": "code",
        "colab": {}
      },
      "source": [
        "import matplotlib.pyplot as plt\n",
        "%matplotlib inline\n",
        "\n",
        "plt.xlabel(\"OAT\")\n",
        "plt.ylabel(\"POWER\")\n",
        "plt.scatter(df['OAT'], df['POWER'])"
      ],
      "execution_count": 0,
      "outputs": []
    },
    {
      "cell_type": "markdown",
      "metadata": {
        "id": "i4RTo2CJ22jj",
        "colab_type": "text"
      },
      "source": [
        "## 선형회귀(Linear Regression)\n",
        "- 종속변수 Y와 한 개이상의 독립변수 X와의 선형 상관 관계 모델링\n",
        "- X집합과 Y집합의 관계가 y = ax + b일 때, a와 b 값을 계산"
      ]
    },
    {
      "cell_type": "code",
      "metadata": {
        "id": "bOtmyjU42yby",
        "colab_type": "code",
        "colab": {}
      },
      "source": [
        "from sklearn.linear_model import LinearRegression\n",
        "\n",
        "# reshape\n",
        "X = df['OAT'].values.reshape(-1,1)\n",
        "y = df['POWER'].values.reshape(-1,1)\n",
        "\n",
        "# Linear regression modeling\n",
        "reg = LinearRegression()\n",
        "reg.fit(X, y)\n",
        "\n",
        "print(\"The linear model is: Y = {:.5} + {:.5}X\".format(reg.intercept_[0], reg.coef_[0][0]))\n"
      ],
      "execution_count": 0,
      "outputs": []
    },
    {
      "cell_type": "code",
      "metadata": {
        "id": "qQvZKFFL4xwr",
        "colab_type": "code",
        "colab": {}
      },
      "source": [
        "predictions = reg.predict(X)\n",
        "plt.figure(figsize=(16, 8))\n",
        "\n",
        "plt.scatter(\n",
        "    df['OAT'],\n",
        "    df['POWER'],\n",
        "    c='blue'\n",
        ")\n",
        "plt.plot(\n",
        "    df['OAT'],\n",
        "    predictions,\n",
        "    c='red',\n",
        "    linewidth=2\n",
        ")\n",
        "plt.xlabel(\"OAT\")\n",
        "plt.ylabel(\"POWER\")\n",
        "plt.show()"
      ],
      "execution_count": 0,
      "outputs": []
    },
    {
      "cell_type": "markdown",
      "metadata": {
        "id": "QT4nfG9y5Jp6",
        "colab_type": "text"
      },
      "source": [
        "## 연습문제 4\n",
        "1. 데이터베이스에서 여름 기간(6/1/2010 ~ 8/31/2010) 동안의 실외 온도와 전력 사용량 데이터 추출\n",
        "  - 힌트: WHERE Timestamp >= '6/1/2010' AND Timestamp < '9/1/2010'\n",
        "2. 추출한 데이터를 Pandas.DataFrame에 로드\n",
        "3. 선형회귀 모델을 구한 후 그래프 그리기"
      ]
    },
    {
      "cell_type": "code",
      "metadata": {
        "id": "_Q9XCaGn5_LK",
        "colab_type": "code",
        "colab": {}
      },
      "source": [
        "import sqlite3\n",
        "\n",
        "import pandas as pd\n",
        "from pandas import DataFrame\n",
        "\n",
        "from sklearn.linear_model import LinearRegression\n",
        "\n",
        "import matplotlib.pyplot as plt\n",
        "%matplotlib inline\n",
        "\n",
        "# 데이터베이스 연결\n",
        "conn = sqlite3.connect('regression.db')\n",
        "\n",
        "try:\n",
        "  # 테이블을 Pandas.Dataframe으로 추출\n",
        "  \n",
        "  # normalize\n",
        "  X = df['OAT'].values.reshape(-1,1)\n",
        "  y = df['POWER'].values.reshape(-1,1)\n",
        "  \n",
        "  # Linear regression modeling\n",
        "\n",
        "  # plot\n",
        "\n",
        "except sqlite3.Error as e:\n",
        "  print(\"sqlite error: \", e)\n",
        "\n",
        "finally:\n",
        "  conn.close()"
      ],
      "execution_count": 0,
      "outputs": []
    },
    {
      "cell_type": "markdown",
      "metadata": {
        "id": "kCVk9Jezj-jN",
        "colab_type": "text"
      },
      "source": [
        "# 실습\n",
        "## 주가 데이터 분석\n",
        "\n",
        "- 목표\n",
        "  * SQL 활용 통계 분석\n",
        "  * Python Pandas 활용\n",
        "  * 시각화 예시\n",
        "- 데이터:\n",
        "  * 5개의 코스닥 상장회사 2019년 주가 데이터 (1월2일~9월18일)\n",
        "  * SK하이닉스(000660), 삼성전자(005930), LG이노텍(011070), 기업은행(024110), 신라젠(215600)\n",
        "- 데이터 준비\n",
        "  * 테이블 Stock 생성\n",
        "  * 준비된 stock.csv 파일을 읽은 후 데이터 로드\n",
        "    \n",
        "|날짜|회사명|종목코드|종가|전일비|시가|고가|저가|거래량|\n",
        "|-----|:-----:|-----|-----|-----|-----|-----|-----|-----|\n",
        "| 2019-01-02 | 'LG이노텍' | '011070' | 83700 | 2700 | 87200 | 87700 | 83700 | 155940 |\n",
        "| 2019-01-02 | 'SK하이닉스' | '000660' | 60600 | 100 | 61300 | 61400 | 60000 | 194295 |\n",
        "| 2019-01-02 | '기업은행' | '024110' | 13500 | 500 | 13950 | 14000 | 13350 | 1546090 |\n",
        "| 2019-01-02 | '삼성전자' | '005930' | 38750 | 50 | 39400 | 39400 | 38550 |7847664 |\n",
        "| 2019-01-02 | '신라젠' | '215600' | 73400 | 100 | 74500 | 76400 | 72700 | 1602082 |\n",
        "| ... | ... | ... | ... | ... | ... | ... | ... | ... |"
      ]
    },
    {
      "cell_type": "code",
      "metadata": {
        "id": "PNgOWNYDkmD8",
        "colab_type": "code",
        "colab": {}
      },
      "source": [
        "# CSV 파일 다운로드\n",
        "!wget https://raw.githubusercontent.com/iljoooo/lecture-notes/master/stock.csv\n",
        "\n",
        "import sqlite3\n",
        "import csv\n",
        "\n",
        "# 데이터베이스 연결\n",
        "conn = sqlite3.connect('stock.db')\n",
        "\n",
        "try: \n",
        "  cursor = conn.cursor()\n",
        "    \n",
        "  # 테이블 생성(Create)\n",
        "  cursor.executescript(\"\"\"\n",
        "                      DROP TABLE IF EXISTS STOCK;\n",
        "                      CREATE TABLE STOCK(\n",
        "                          '날짜' DATE, '회사명' VARCHAR(32), '종목코드' CHAR(8),\n",
        "                          '종가' INT, '전일비' INT,\n",
        "                          '시가' INT, '고가' INT, '저가' INT, '거래량' INT);\n",
        "                      \"\"\")\n",
        "  reader = csv.reader(open('stock.csv'), delimiter=',')\n",
        "  next(reader) # 헤더 제거\n",
        "\n",
        "  # 데이터 입력\n",
        "  for row in reader:\n",
        "    cursor.execute(\"INSERT INTO STOCK VALUES(?, ?, ?, ?, ?, ?, ?, ?, ?)\", row)\n",
        "  \n",
        "  # 트랜잭션 커밋\n",
        "  conn.commit()\n",
        "  \n",
        "  # 데이터 확인\n",
        "  count = cursor.execute(\"SELECT COUNT(*) FROM STOCK\").fetchall()[0][0]\n",
        "  print(count)\n",
        "        \n",
        "except sqlite3.Error as e:\n",
        "  print(\"sqlite error: \", e)\n",
        "\n",
        "finally:\n",
        "  conn.close()"
      ],
      "execution_count": 0,
      "outputs": []
    },
    {
      "cell_type": "markdown",
      "metadata": {
        "id": "S5RLEY_FkpDc",
        "colab_type": "text"
      },
      "source": [
        "## 실습 문제 1\n",
        "- 회사 별로 가장 높았던 고가와 평균 거래량 질의\n",
        "- 출력: (회사이름, 최고고가, 평균 거래량)"
      ]
    },
    {
      "cell_type": "code",
      "metadata": {
        "id": "79upYnEukrHm",
        "colab_type": "code",
        "colab": {}
      },
      "source": [
        "import sqlite3\n",
        "\n",
        "# 데이터베이스 연결\n",
        "conn = sqlite3.connect('stock.db')\n",
        "\n",
        "try:   \n",
        "  # 쿼리 정의\n",
        "  sql = ''\n",
        "  \n",
        "  # 쿼리 수행\n",
        "    \n",
        "  # 결과 확인\n",
        "  \n",
        "except sqlite3.Error as e:\n",
        "  print(\"sqlite error: \", e)\n",
        "\n",
        "finally:\n",
        "  conn.close()"
      ],
      "execution_count": 0,
      "outputs": []
    },
    {
      "cell_type": "markdown",
      "metadata": {
        "id": "0DLNoBynkxCd",
        "colab_type": "text"
      },
      "source": [
        "## 실습 문제 2\n",
        "- 3월 1일 이후, 각 회사의 가장 낮았던 저가와 총 거래량\n",
        "- 출력: (회사이름, 최저 저가, 총 거래량)"
      ]
    },
    {
      "cell_type": "code",
      "metadata": {
        "id": "v734fqJuky_Y",
        "colab_type": "code",
        "colab": {}
      },
      "source": [
        "import sqlite3\n",
        "\n",
        "# 데이터베이스 연결\n",
        "conn = sqlite3.connect('stock.db')\n",
        "\n",
        "try:   \n",
        "  # 쿼리 정의\n",
        "  sql = \"\"\n",
        "    \n",
        "  # 쿼리 수행\n",
        "  \n",
        "  # 결과 확인\n",
        "  \n",
        "except sqlite3.Error as e:\n",
        "  print(\"sqlite error: \", e)\n",
        "\n",
        "finally:\n",
        "  conn.close()"
      ],
      "execution_count": 0,
      "outputs": []
    },
    {
      "cell_type": "markdown",
      "metadata": {
        "id": "DmN2m9Lbk6Qd",
        "colab_type": "text"
      },
      "source": [
        "## 실습 문제 3\n",
        "- 7월 1일 이전, 각 회사의 평균 종가와 평균 전일비\n",
        "- 출력: (회사이름, 평균 종가, 평균 전일비)를 회사 이름을 기준 오름차 순으로 정렬"
      ]
    },
    {
      "cell_type": "code",
      "metadata": {
        "id": "ZxDKkv_mk9Gk",
        "colab_type": "code",
        "colab": {}
      },
      "source": [
        "import sqlite3\n",
        "\n",
        "# 데이터베이스 연결\n",
        "conn = sqlite3.connect('stock.db')\n",
        "\n",
        "try:   \n",
        "  # 쿼리 정의\n",
        "  sql = \"\"\" \"\"\"\n",
        "  \n",
        "  # 쿼리 수행\n",
        "    \n",
        "  # 결과 확인\n",
        "\n",
        "except sqlite3.Error as e:\n",
        "  print(\"sqlite error: \", e)\n",
        "\n",
        "finally:\n",
        "  conn.close()"
      ],
      "execution_count": 0,
      "outputs": []
    },
    {
      "cell_type": "markdown",
      "metadata": {
        "id": "OD7LYps8lL8B",
        "colab_type": "text"
      },
      "source": [
        "## 그래프 그리기\n",
        "1. 데이터베이스에서 데이터를 추출하여 Dataframe에 할당\n",
        "2. Dataframe과 matplotlib을 사용하여 그래프 그리기"
      ]
    },
    {
      "cell_type": "code",
      "metadata": {
        "id": "FIPM8x34lTj1",
        "colab_type": "code",
        "colab": {}
      },
      "source": [
        "import sqlite3\n",
        "import pandas as pd\n",
        "from pandas import DataFrame\n",
        "import matplotlib.pyplot as plt\n",
        "%matplotlib inline\n",
        "\n",
        "# 데이터베이스 연결\n",
        "conn = sqlite3.connect('stock.db')\n",
        "\n",
        "try:\n",
        "  # 데이터 추출\n",
        "  df = pd.read_sql(\"SELECT 날짜, 종가 FROM STOCK WHERE 회사명 = '삼성전자' ORDER BY 날짜\", conn, parse_dates = {'날짜':'%Y-%m-%d'})\n",
        "  \n",
        "  # 그래프 그리기\n",
        "  plt.figure(figsize=(16, 8))\n",
        "  plt.plot(df['날짜'], df['종가'])\n",
        "  plt.show()\n",
        "    \n",
        "except sqlite3.Error as e:\n",
        "  print(\"sqlite error: \", e)\n",
        "\n",
        "finally:\n",
        "  conn.close()"
      ],
      "execution_count": 0,
      "outputs": []
    },
    {
      "cell_type": "markdown",
      "metadata": {
        "id": "uKlAVSiNlak1",
        "colab_type": "text"
      },
      "source": [
        "## 실습 문제 4\n",
        "- 상반기(1월 1일~6월 30일) 기업은행 주식의 거래량을 그래프로 표현"
      ]
    },
    {
      "cell_type": "code",
      "metadata": {
        "id": "C7bAnUsBlg7l",
        "colab_type": "code",
        "colab": {}
      },
      "source": [
        "import sqlite3\n",
        "import pandas as pd\n",
        "from pandas import DataFrame\n",
        "import matplotlib.pyplot as plt\n",
        "%matplotlib inline\n",
        "\n",
        "# 데이터베이스 연결\n",
        "conn = sqlite3.connect('stock.db')\n",
        "\n",
        "try:\n",
        "  # 데이터 추출\n",
        " \n",
        "  # 그래프 그리기\n",
        "    \n",
        "except sqlite3.Error as e:\n",
        "  print(\"sqlite error: \", e)\n",
        "\n",
        "finally:\n",
        "  conn.close()"
      ],
      "execution_count": 0,
      "outputs": []
    }
  ]
}